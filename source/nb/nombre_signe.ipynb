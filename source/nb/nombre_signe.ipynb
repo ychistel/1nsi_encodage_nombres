{
 "cells": [
  {
   "cell_type": "markdown",
   "id": "fa51f9ae",
   "metadata": {},
   "source": [
    "# Nombres signés en binaire\n",
    "\n",
    "Les nombres entiers négatifs s'écrivent aussi en binaire. On dit que ce sont des **nombres signés**. La question est comment ?\n",
    "\n",
    "- Si l'écriture binaire commence par $1$ (bit de poids fort), alors le nombre est négatif.\n",
    "- Si l'écriture binaire commence par $0$ (bit de poids fort), alors le nombre est positif.\n",
    "- Si l'écriture est sur un octet (8 bits), les nombres sont compris entre $-2^{7}=-128$ et $2^{7}-1=127$. On a 128 nombres négatifs et 128 nombre positifs (zéro est positif).\n",
    "\n",
    "Les nombres binaires positifs se convertissent comme les nombres entiers positifs (voir [cours sur la numération](../numeration_binaire_hexadecimale/numeration.ipynb)). Les nombres négatifs ne se convertissent pas comme les nombres positifs. Un nombre négatif est converti par la méthodedu complément à 2."
   ]
  },
  {
   "cell_type": "markdown",
   "id": "7679901d",
   "metadata": {},
   "source": [
    "## Complément à 2\n",
    "\n",
    "L'écriture binaire d'un nombre négatif s'obtient à partir du nombre positif (valeur absolue) et de son complément à 2 :\n",
    "\n",
    "1. écriture binaire de la valeur absolue du nombre négatif,\n",
    "2. complément à 1 de cette écriture binaire, ce qui signifie que chaque bit 0 est remplacé par le bit 1 et chaque bit 1 est remplacé par le bit 0\n",
    "3. complément à 2 c'est à dire en ajoutant 1 au complément à 1."
   ]
  },
  {
   "cell_type": "raw",
   "id": "4ba9f448",
   "metadata": {
    "raw_mimetype": "text/restructuredtext"
   },
   "source": [
    ".. admonition:: Exemple\n",
    "\n",
    "    Écriture binaire du nombre négatif -12 sur 5 bits.\n",
    "\n",
    "    - on écrit 12 en binaire sur 5 bits : 01100\n",
    "    - le complément à 1 de 01100 est 10011\n",
    "    - le complément à 2 de 01100 est 10011 + 1 = 10100\n",
    "\n",
    "    En binaire, le nombre -12 s'écrit 10100 sur 5 bits."
   ]
  },
  {
   "cell_type": "raw",
   "id": "d0b6a81b",
   "metadata": {
    "raw_mimetype": "text/restructuredtext"
   },
   "source": [
    ".. important::\n",
    "\n",
    "    Le nombre de bits utilisés est important. Par exemple, le nombre -12 sur 6 bits s'écrit en binaire 110100 et sur 1 octet il s'écrit 11110100."
   ]
  },
  {
   "cell_type": "markdown",
   "id": "1b937b4e",
   "metadata": {},
   "source": [
    "## Généralisation\n",
    "\n",
    "D'après la remarque précédente, le nombre $-12$ est codé en binaire sur 6 bits comme le nombre positif $-12+2^{6}=-12+32=20$. De même, le nombre $-12$ est codé en binaire sur 8 bits comme le nombre positif $-12+2^{8}=-12+256=244$.\n",
    "\n",
    "Un nombre négatif `r` est codé en binaire sur `n` bits comme le nombre positif $r+2^{n}$."
   ]
  },
  {
   "cell_type": "markdown",
   "id": "cbc930f0",
   "metadata": {},
   "source": [
    "![nombre_signe.svgg](img/nombre_signe.svg)"
   ]
  },
  {
   "cell_type": "markdown",
   "id": "cf47cec5",
   "metadata": {},
   "source": [
    "### Exemple\n",
    "\n",
    "Écriture binaire de -12:\n",
    "\n",
    "1. On a : $-16<-12<15$ ce qui est équivalent à $-2^{4} < -12 < 2^{4}-1$. On en déduit que $n=5$ bits.\n",
    "2. L'écriture binaire de $-12$ est la même que son complément à $2^{5}$ soit $-12+2^{5}=-12+32=20$      \n",
    "3. Or $20_{10}=10100_{2}$ donc $-12_{10}$ se code $10100_{2}$ en binaire."
   ]
  },
  {
   "cell_type": "markdown",
   "id": "989f21a7",
   "metadata": {},
   "source": [
    "## Exercice 1\n",
    "\n",
    "Donner l'écriture binaire des nombres signés suivants:\n",
    "\n",
    "- $-9$\n",
    "- $+21$\n",
    "- $-33$\n",
    "- $-78$"
   ]
  },
  {
   "cell_type": "markdown",
   "id": "fb3e95fe",
   "metadata": {},
   "source": [
    "## Exercice 2\n",
    "\n",
    "Donner l'écriture binaire du nombre $-7$ écrit sur 1 octet."
   ]
  }
 ],
 "metadata": {
  "celltoolbar": "Format de la Cellule Texte Brut",
  "kernelspec": {
   "display_name": "Python 3 (ipykernel)",
   "language": "python",
   "name": "python3"
  },
  "language_info": {
   "codemirror_mode": {
    "name": "ipython",
    "version": 3
   },
   "file_extension": ".py",
   "mimetype": "text/x-python",
   "name": "python",
   "nbconvert_exporter": "python",
   "pygments_lexer": "ipython3",
   "version": "3.11.0"
  }
 },
 "nbformat": 4,
 "nbformat_minor": 5
}
